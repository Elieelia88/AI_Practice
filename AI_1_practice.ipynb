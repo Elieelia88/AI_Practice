{
  "cells": [
    {
      "cell_type": "code",
      "source": [
        "import numpy as np\n",
        "import matplotlib.pyplot as plt \n",
        "from  matplotlib import style \n",
        "from sklearn import svm\n",
        "style.use(\"ggplot\")\n",
        "\n",
        "my_input = np.array([\n",
        "                     [3,2],\n",
        "                     [6,6],\n",
        "                     [2.6,3],\n",
        "                     [7,8],\n",
        "                     [3.5,5],\n",
        "                     [6,11]\n",
        "])\n",
        "\n",
        "my_output = [0,1,0,1,0,1]\n",
        "\n",
        "my_model = svm.SVC(kernel=\"linear\",C = 1.0)\n",
        "my_model.fit(my_input,my_output)\n",
        "\n",
        "print(\"SVC predict[5.5,1.8] : \",my_model.predict([[5.5,1.8]]))\n",
        "print(\"SVC predict[6,6] : \",my_model.predict([[6,6]]))\n",
        "\n",
        "plt.scatter(my_input[:, 0],my_input[:, 1], c = my_output)\n",
        "plt.scatter(5.5,1.8,c = 'r')\n",
        "plt.scatter(6,6,c = 'r')\n",
        "\n"
      ],
      "metadata": {
        "id": "28CWsgKsVK7Y",
        "colab": {
          "base_uri": "https://localhost:8080/",
          "height": 317
        },
        "outputId": "a9f6b892-6188-4b4e-c7cf-1aec4964ea89"
      },
      "execution_count": null,
      "outputs": [
        {
          "output_type": "stream",
          "name": "stdout",
          "text": [
            "SVC predict[5.5,1.8] :  [0]\n",
            "SVC predict[6,6] :  [1]\n"
          ]
        },
        {
          "output_type": "execute_result",
          "data": {
            "text/plain": [
              "<matplotlib.collections.PathCollection at 0x7f14b4b80910>"
            ]
          },
          "metadata": {},
          "execution_count": 6
        },
        {
          "output_type": "display_data",
          "data": {
            "image/png": "[encoded data removed]",
            "text/plain": [
              "<Figure size 432x288 with 1 Axes>"
            ]
          },
          "metadata": {}
        }
      ]
    }
  ],
  "metadata": {
    "colab": {
      "collapsed_sections": [],
      "name": "AI-1-practice",
      "toc_visible": true,
      "provenance": []
    },
    "kernelspec": {
      "display_name": "Python 3",
      "name": "python3"
    }
  },
  "nbformat": 4,
  "nbformat_minor": 0
}