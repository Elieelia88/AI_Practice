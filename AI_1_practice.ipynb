{
  "cells": [
    {
      "cell_type": "code",
      "source": [
        "\n",
        "#classification simple example\n",
        "\n",
        "import numpy as np\n",
        "import matplotlib.pyplot as plt \n",
        "from  matplotlib import style \n",
        "from sklearn import svm\n",
        "style.use(\"ggplot\")\n",
        "\n",
        "my_input = np.array([\n",
        "                     [3,2],\n",
        "                     [6,6],\n",
        "                     [2.6,3],\n",
        "                     [7,8],\n",
        "                     [3.5,5],\n",
        "                     [6,11]\n",
        "])\n",
        "\n",
        "my_output = [0,1,0,1,0,1]\n",
        "\n",
        "my_model = svm.SVC(kernel=\"linear\",C = 1.0)\n",
        "my_model.fit(my_input,my_output)\n",
        "\n",
        "print(\"SVC predict[5.5,1.8] : \",my_model.predict([[5.5,1.8]]))\n",
        "print(\"SVC predict[6,6] : \",my_model.predict([[6,6]]))\n",
        "\n",
        "plt.scatter(my_input[:, 0],my_input[:, 1], c = my_output)\n",
        "plt.scatter(5.5,1.8,c = 'r')\n",
        "plt.scatter(6,10,c = 'r')\n",
        "\n"
      ],
      "metadata": {
        "id": "28CWsgKsVK7Y",
        "colab": {
          "base_uri": "https://localhost:8080/",
          "height": 317
        },
        "outputId": "68aa53f4-585b-4514-a115-ddbaf4d5be92"
      },
      "execution_count": 9,
      "outputs": [
        {
          "output_type": "stream",
          "name": "stdout",
          "text": [
            "SVC predict[5.5,1.8] :  [0]\n",
            "SVC predict[6,6] :  [1]\n"
          ]
        },
        {
          "output_type": "execute_result",
          "data": {
            "text/plain": [
              "<matplotlib.collections.PathCollection at 0x7f14b4a27d50>"
            ]
          },
          "metadata": {},
          "execution_count": 9
        },
        {
          "output_type": "display_data",
          "data": {
            "image/png": "[encoded data removed]",
            "text/plain": [
              "<Figure size 432x288 with 1 Axes>"
            ]
          },
          "metadata": {}
        }
      ]
    },
    {
      "cell_type": "code",
      "source": [
        "#regression simple example\n",
        "\n",
        "import numpy as np\n",
        "import matplotlib.pyplot as plt \n",
        "from  matplotlib import style \n",
        "from sklearn import svm\n",
        "style.use(\"ggplot\")\n",
        "\n",
        "my_input = np.array([\n",
        "                     [3,2],\n",
        "                     [6,6],\n",
        "                     [2.6,3],\n",
        "                     [7,8],\n",
        "                     [3.5,5],\n",
        "                     [6,11]\n",
        "])\n",
        "\n",
        "my_output = [0,1,0,1,0,1]\n",
        "\n",
        "my_clf = svm.SVR(kernel=\"linear\",C = 1.0)\n",
        "my_clf.fit(my_input,my_output)\n",
        "\n",
        "print(\"SVC predict[5.5,1.8] : \",my_clf.predict([[5.5,1.8]]))\n",
        "print(\"SVC predict[6,10] : \",my_clf.predict([[6,10]]))\n",
        "\n",
        "plt.scatter(my_input[:, 0],my_input[:, 1], c = my_output)\n",
        "plt.scatter(5.5,1.8,c = 'r')\n",
        "plt.scatter(6,10,c = 'r')\n"
      ],
      "metadata": {
        "colab": {
          "base_uri": "https://localhost:8080/",
          "height": 317
        },
        "id": "yHdaBxbZqJQD",
        "outputId": "c72fb0c2-a84b-4914-c46f-928c6aeed101"
      },
      "execution_count": 13,
      "outputs": [
        {
          "output_type": "stream",
          "name": "stdout",
          "text": [
            "SVC predict[5.5,1.8] :  [0.61114594]\n",
            "SVC predict[6,6] :  [0.81181239]\n"
          ]
        },
        {
          "output_type": "execute_result",
          "data": {
            "text/plain": [
              "<matplotlib.collections.PathCollection at 0x7f14b4d40790>"
            ]
          },
          "metadata": {},
          "execution_count": 13
        },
        {
          "output_type": "display_data",
          "data": {
            "image/png": "[encoded data removed]",
            "text/plain": [
              "<Figure size 432x288 with 1 Axes>"
            ]
          },
          "metadata": {}
        }
      ]
    },
    {
      "cell_type": "code",
      "source": [
        "#flat Clustering K-Mean simple example\n",
        "\n",
        "import numpy as np\n",
        "import matplotlib.pyplot as plt \n",
        "from  matplotlib import style \n",
        "from sklearn.cluster import KMeans\n",
        "style.use(\"ggplot\")\n",
        "\n",
        "my_input = np.array([\n",
        "                     [4,2],\n",
        "                     [6,6],\n",
        "                     [2.6,4],\n",
        "                     [7,8],\n",
        "                     [3.5,5],\n",
        "                     [6,11],\n",
        "                     [1,2.5],\n",
        "                     [5,8],\n",
        "                     [2.6,4.5],\n",
        "                     [3,8],\n",
        "                     [5,5.2],\n",
        "                     [6,1]\n",
        "])\n",
        "\n",
        "\n",
        "my_model = KMeans(n_clusters=2)\n",
        "my_model.fit(my_input)\n",
        "\n",
        "print(\"cluster_centers : \\n\",my_model.cluster_centers_)\n",
        "print(\"Labels : \",my_model.labels_)\n",
        "\n",
        "colors = [\"g.\",\"r.\",\"c.\",\"y.\"]\n",
        "plt.scatter(my_input[:, 0],my_input[:, 1], c = my_model.labels_)\n",
        "plt.scatter(my_model.cluster_centers_[:, 0],my_model.cluster_centers_[:, 1], marker = \"x\", s=250,linewidths=5)\n",
        "plt.show()"
      ],
      "metadata": {
        "colab": {
          "base_uri": "https://localhost:8080/",
          "height": 334
        },
        "id": "zrgu9r1Jr_t_",
        "outputId": "24091978-f1e2-405d-89d4-6649cb80229d"
      },
      "execution_count": 31,
      "outputs": [
        {
          "output_type": "stream",
          "name": "stdout",
          "text": [
            "cluster_centers : \n",
            " [[5.4        8.2       ]\n",
            " [3.52857143 3.45714286]]\n",
            "Labels :  [1 0 1 0 1 0 1 0 1 0 1 1]\n"
          ]
        },
        {
          "output_type": "display_data",
          "data": {
            "image/png": "[encoded data removed]",
            "text/plain": [
              "<Figure size 432x288 with 1 Axes>"
            ]
          },
          "metadata": {}
        }
      ]
    },
    {
      "cell_type": "code",
      "source": [
        "#Hierarchical Clustering MeanShift simple example\n",
        "\n",
        "import numpy as np\n",
        "import matplotlib.pyplot as plt \n",
        "from  matplotlib import style \n",
        "from sklearn.cluster import MeanShift\n",
        "style.use(\"ggplot\")\n",
        "\n",
        "my_input = np.array([\n",
        "                     [4,3],\n",
        "                     [6.5,7.5],\n",
        "                     [2.6,4],\n",
        "                     [7,8],\n",
        "                     [3.5,5],\n",
        "                     [6,9],\n",
        "                     [3.5,5],\n",
        "                     [6,8],\n",
        "                     [3.5,3],\n",
        "                     [6.5,8],\n",
        "                     [4,4],\n",
        "                     [3,3],\n",
        "                     [3,4],\n",
        "                     [3.5,4],\n",
        "                     [3.4,3.7],\n",
        "                     [3.3,4.5],\n",
        "                     [3.8,4.3]\n",
        "])\n",
        "\n",
        "\n",
        "my_model = MeanShift()\n",
        "my_model.fit(my_input)\n",
        "\n",
        "print(\"cluster_centers : \\n\",my_model.cluster_centers_)\n",
        "print(\"Labels : \",my_model.labels_)\n",
        "\n",
        "colors = [\"g.\",\"r.\",\"c.\",\"y.\"]\n",
        "plt.scatter(my_input[:, 0],my_input[:, 1], c = my_model.labels_)\n",
        "plt.scatter(my_model.cluster_centers_[:, 0],my_model.cluster_centers_[:, 1], marker = \"x\", s=250,linewidths=5)\n",
        "plt.show()"
      ],
      "metadata": {
        "colab": {
          "base_uri": "https://localhost:8080/",
          "height": 352
        },
        "id": "bOnR3gm9ulAr",
        "outputId": "421cb3c9-a783-4d8a-dfb3-35fe53692e6d"
      },
      "execution_count": 37,
      "outputs": [
        {
          "output_type": "stream",
          "name": "stdout",
          "text": [
            "cluster_centers : \n",
            " [[3.41  3.75 ]\n",
            " [6.5   7.875]\n",
            " [6.    9.   ]]\n",
            "Labels :  [0 1 0 1 0 2 0 1 0 1 0 0 0 0 0 0 0]\n"
          ]
        },
        {
          "output_type": "display_data",
          "data": {
            "image/png": "[encoded data removed]",
            "text/plain": [
              "<Figure size 432x288 with 1 Axes>"
            ]
          },
          "metadata": {}
        }
      ]
    },
    {
      "cell_type": "code",
      "source": [
        "#Dimension reduction PCA simple example\n",
        "import numpy as np\n",
        "import matplotlib.pyplot as plt \n",
        "from  matplotlib import style \n",
        "from sklearn.decomposition import PCA\n",
        "style.use(\"ggplot\")\n",
        "\n",
        "rng = np.random.RandomState(1)\n",
        "my_input = np.dot(rng.rand(2,2),rng.randn(2,100)).T\n",
        "\n",
        "my_model = PCA(n_components=1)\n",
        "my_model.fit(my_input)\n",
        "\n",
        "my_input_pca = my_model.transform(my_input)\n",
        "\n",
        "print(\"Original shape : \",my_input.shape)\n",
        "print(\"the transformed shape : \",my_input_pca.shape)\n",
        "\n",
        "my_input_new_values = my_model.inverse_transform(my_input_pca)\n",
        "plt.scatter(my_input[:, 0],my_input[:, 1])\n",
        "plt.scatter(my_input_new_values[:, 0],my_input_new_values[:, 1])\n",
        "plt.show()"
      ],
      "metadata": {
        "colab": {
          "base_uri": "https://localhost:8080/",
          "height": 300
        },
        "id": "IyU-8RemwLq3",
        "outputId": "a050dec1-dfc0-494e-f51d-074054604dc6"
      },
      "execution_count": 51,
      "outputs": [
        {
          "output_type": "stream",
          "name": "stdout",
          "text": [
            "Original shape :  (100, 2)\n",
            "the transformed shape :  (100, 1)\n"
          ]
        },
        {
          "output_type": "display_data",
          "data": {
            "image/png": "[encoded data removed]",
            "text/plain": [
              "<Figure size 432x288 with 1 Axes>"
            ]
          },
          "metadata": {}
        }
      ]
    }
  ],
  "metadata": {
    "colab": {
      "collapsed_sections": [],
      "name": "AI-1-practice",
      "toc_visible": true,
      "provenance": []
    },
    "kernelspec": {
      "display_name": "Python 3",
      "name": "python3"
    }
  },
  "nbformat": 4,
  "nbformat_minor": 0
}