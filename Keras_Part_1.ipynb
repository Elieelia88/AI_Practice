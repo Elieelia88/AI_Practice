{
  "nbformat": 4,
  "nbformat_minor": 0,
  "metadata": {
    "colab": {
      "name": "Keras-Part-1.ipynb",
      "provenance": [],
      "collapsed_sections": [],
      "toc_visible": true,
      "authorship_tag": "ABX9TyN0mnsY80aFGfNrP6fqskVk"
    },
    "kernelspec": {
      "name": "python3",
      "display_name": "Python 3"
    },
    "language_info": {
      "name": "python"
    }
  },
  "cells": [
    {
      "cell_type": "code",
      "source": [
        "# # import \n",
        "\n",
        "# import numpy as np\n",
        "# from random import randint\n",
        "# from sklearn.utils import shuffle\n",
        "# from sklearn.preprocessing import MinMaxScaler\n",
        "\n",
        "\n",
        "\n",
        "# import tensorflow as tf \n",
        "# from tensorflow import keras\n",
        "# from tensorflow.keras.models import Sequential\n",
        "# from tensorflow.keras.layers import Activation, Dense\n",
        "# from tensorflow.keras.optimizers import Adam\n",
        "# from tensorflow.keras.metrics import categorical_crossentropy \n",
        "\n",
        "# #set for samples and lables\n",
        "\n",
        "# train_labels =[]\n",
        "# train_samples =[]\n",
        "\n",
        "\n",
        "# # drug medicine experience\n",
        "\n",
        "# for i in range(50):\n",
        "#   # the ~5% of younger individuals who did experience side effects\n",
        "#   random_younger = randint(13,64)\n",
        "#   train_samples.append(random_younger)\n",
        "#   train_labels.append(1)\n",
        "\n",
        "#   # the ~5% of older individuals who did not experience side effects\n",
        "#   random_older = randint(65,100)\n",
        "#   train_samples.append(random_older)\n",
        "#   train_labels.append(0)\n",
        "\n",
        "\n",
        "# for i in range(1000):\n",
        "#   # the ~95% of younger individuals who did not experience side effects\n",
        "#   random_younger = randint(13,64)\n",
        "#   train_samples.append(random_younger)\n",
        "#   train_labels.append(0)\n",
        "\n",
        "#   # the ~5% of older individuals who did experience side effects\n",
        "#   random_older = randint(65,100)\n",
        "#   train_samples.append(random_older)\n",
        "#   train_labels.append(1)\n",
        "\n",
        "\n",
        "\n",
        "# # samples and labels to numpy arry\n",
        "# train_labels = np.array(train_labels)\n",
        "# train_samples = np.array(train_samples)\n",
        "# train_labels, train_samples = shuffle(train_labels,train_samples)\n",
        "\n",
        "# #scaler\n",
        "# scaler = MinMaxScaler(feature_range=(0,1))\n",
        "# scaled_train_samples = scaler.fit_transform(train_samples.reshape(-1,1))\n",
        "\n",
        "\n",
        "\n",
        "# # model building\n",
        "\n",
        "# model = Sequential([\n",
        "#           Dense(units = 16, input_shape = (1,), activation='relu'),\n",
        "#           Dense(units = 32, activation='relu'),\n",
        "#           Dense(units = 2, activation='Softmax')\n",
        "# ])\n",
        "\n",
        "# #model summary \n",
        "# model.summary()\n",
        "\n",
        "# #model compile\n",
        "# model.compile(optimizer=Adam(learning_rate=0.0001),loss='sparse_categorical_crossentropy',metrics=['accuracy'])\n",
        "\n",
        "\n",
        "# #fitting\n",
        "# model.fit(x=scaled_train_samples, y=train_labels, batch_size=10, epochs=30, shuffle=True, verbose=2)\n",
        "\n",
        "\n",
        "\n",
        "\n",
        "\n",
        "\n"
      ],
      "metadata": {
        "id": "LyhRII8HQhfI"
      },
      "execution_count": null,
      "outputs": []
    },
    {
      "cell_type": "code",
      "source": [
        "# import \n",
        "\n",
        "import numpy as np\n",
        "from random import randint\n",
        "from sklearn.utils import shuffle\n",
        "from sklearn.preprocessing import MinMaxScaler"
      ],
      "metadata": {
        "id": "ZRgeMc5NWNMg"
      },
      "execution_count": null,
      "outputs": []
    },
    {
      "cell_type": "code",
      "source": [
        "#set for samples and lables\n",
        "\n",
        "train_labels =[]\n",
        "train_samples =[]\n"
      ],
      "metadata": {
        "id": "pqdKDeLbWV9p"
      },
      "execution_count": null,
      "outputs": []
    },
    {
      "cell_type": "code",
      "source": [
        "#@title Default title text\n",
        "# drug medicine experience\n",
        "\n",
        "for i in range(50):\n",
        "  # the ~5% of younger individuals who did experience side effects\n",
        "  random_younger = randint(13,64)\n",
        "  train_samples.append(random_younger)\n",
        "  train_labels.append(1)\n",
        "\n",
        "  # the ~5% of older individuals who did not experience side effects\n",
        "  random_older = randint(65,100)\n",
        "  train_samples.append(random_older)\n",
        "  train_labels.append(0)\n",
        "\n",
        "\n",
        "for i in range(1000):\n",
        "  # the ~95% of younger individuals who did not experience side effects\n",
        "  random_younger = randint(13,64)\n",
        "  train_samples.append(random_younger)\n",
        "  train_labels.append(0)\n",
        "\n",
        "  # the ~5% of older individuals who did experience side effects\n",
        "  random_older = randint(65,100)\n",
        "  train_samples.append(random_older)\n",
        "  train_labels.append(1)\n"
      ],
      "metadata": {
        "id": "KUW5H-2mWpN9",
        "cellView": "code"
      },
      "execution_count": null,
      "outputs": []
    },
    {
      "cell_type": "code",
      "source": [
        "# samples and labels to numpy arry\n",
        "\n",
        "train_labels = np.array(train_labels)\n",
        "train_samples = np.array(train_samples)\n",
        "\n",
        "train_labels, train_samples = shuffle(train_labels, train_samples)\n",
        "\n",
        "#scaler\n",
        "scaler = MinMaxScaler(feature_range=(0,1))\n",
        "scaled_train_samples = scaler.fit_transform(train_samples.reshape(-1,1))"
      ],
      "metadata": {
        "id": "gsOoeVRSWyT9"
      },
      "execution_count": null,
      "outputs": []
    },
    {
      "cell_type": "code",
      "source": [
        "#tensorflow import \n",
        " \n",
        "import tensorflow as tf \n",
        "from tensorflow import keras\n",
        "from tensorflow.keras.models import Sequential\n",
        "from tensorflow.keras.layers import Activation, Dense\n",
        "from tensorflow.keras.optimizers import Adam\n",
        "from tensorflow.keras.metrics import categorical_crossentropy \n"
      ],
      "metadata": {
        "id": "zUpW0mBIW6j9"
      },
      "execution_count": null,
      "outputs": []
    },
    {
      "cell_type": "code",
      "source": [
        "# model building\n",
        "\n",
        "model = Sequential([\n",
        "          Dense(units = 16, input_shape = (1,), activation='relu'),\n",
        "          Dense(units = 32, activation='relu'),\n",
        "          Dense(units = 2, activation='Softmax')\n",
        "])\n"
      ],
      "metadata": {
        "id": "9HB7lXSrXHC7"
      },
      "execution_count": null,
      "outputs": []
    },
    {
      "cell_type": "code",
      "source": [
        "#model compile\n",
        "model.compile(optimizer=Adam(learning_rate=0.0001),loss='sparse_categorical_crossentropy',metrics=['accuracy'])"
      ],
      "metadata": {
        "id": "ViG25ephXNZ-"
      },
      "execution_count": null,
      "outputs": []
    },
    {
      "cell_type": "code",
      "source": [
        "#fitting\n",
        "model.fit(x=scaled_train_samples, y=train_labels, validation_split=0.1, batch_size=10, epochs=30, shuffle=True, verbose=2)"
      ],
      "metadata": {
        "colab": {
          "base_uri": "https://localhost:8080/"
        },
        "id": "Pi47GNPGXQvf",
        "outputId": "e07c50ee-2645-489f-ee26-e924afaff53e"
      },
      "execution_count": null,
      "outputs": [
        {
          "output_type": "stream",
          "name": "stdout",
          "text": [
            "Epoch 1/30\n",
            "189/189 - 1s - loss: 0.7299 - accuracy: 0.4921 - val_loss: 0.7110 - val_accuracy: 0.5048 - 845ms/epoch - 4ms/step\n",
            "Epoch 2/30\n",
            "189/189 - 0s - loss: 0.7014 - accuracy: 0.5026 - val_loss: 0.6904 - val_accuracy: 0.7333 - 339ms/epoch - 2ms/step\n",
            "Epoch 3/30\n",
            "189/189 - 0s - loss: 0.6798 - accuracy: 0.7899 - val_loss: 0.6737 - val_accuracy: 0.6714 - 296ms/epoch - 2ms/step\n",
            "Epoch 4/30\n",
            "189/189 - 0s - loss: 0.6598 - accuracy: 0.7339 - val_loss: 0.6571 - val_accuracy: 0.6714 - 327ms/epoch - 2ms/step\n",
            "Epoch 5/30\n",
            "189/189 - 0s - loss: 0.6390 - accuracy: 0.7460 - val_loss: 0.6393 - val_accuracy: 0.7048 - 278ms/epoch - 1ms/step\n",
            "Epoch 6/30\n",
            "189/189 - 0s - loss: 0.6166 - accuracy: 0.7661 - val_loss: 0.6201 - val_accuracy: 0.7143 - 290ms/epoch - 2ms/step\n",
            "Epoch 7/30\n",
            "189/189 - 0s - loss: 0.5929 - accuracy: 0.7873 - val_loss: 0.6000 - val_accuracy: 0.7238 - 282ms/epoch - 1ms/step\n",
            "Epoch 8/30\n",
            "189/189 - 0s - loss: 0.5688 - accuracy: 0.8032 - val_loss: 0.5801 - val_accuracy: 0.7286 - 295ms/epoch - 2ms/step\n",
            "Epoch 9/30\n",
            "189/189 - 0s - loss: 0.5446 - accuracy: 0.8159 - val_loss: 0.5600 - val_accuracy: 0.7476 - 315ms/epoch - 2ms/step\n",
            "Epoch 10/30\n",
            "189/189 - 0s - loss: 0.5208 - accuracy: 0.8339 - val_loss: 0.5407 - val_accuracy: 0.7619 - 278ms/epoch - 1ms/step\n",
            "Epoch 11/30\n",
            "189/189 - 0s - loss: 0.4978 - accuracy: 0.8407 - val_loss: 0.5214 - val_accuracy: 0.7810 - 290ms/epoch - 2ms/step\n",
            "Epoch 12/30\n",
            "189/189 - 0s - loss: 0.4755 - accuracy: 0.8540 - val_loss: 0.5032 - val_accuracy: 0.7810 - 312ms/epoch - 2ms/step\n",
            "Epoch 13/30\n",
            "189/189 - 0s - loss: 0.4543 - accuracy: 0.8635 - val_loss: 0.4857 - val_accuracy: 0.8048 - 326ms/epoch - 2ms/step\n",
            "Epoch 14/30\n",
            "189/189 - 0s - loss: 0.4348 - accuracy: 0.8746 - val_loss: 0.4699 - val_accuracy: 0.8190 - 295ms/epoch - 2ms/step\n",
            "Epoch 15/30\n",
            "189/189 - 0s - loss: 0.4167 - accuracy: 0.8794 - val_loss: 0.4543 - val_accuracy: 0.8333 - 288ms/epoch - 2ms/step\n",
            "Epoch 16/30\n",
            "189/189 - 0s - loss: 0.4000 - accuracy: 0.8910 - val_loss: 0.4403 - val_accuracy: 0.8476 - 322ms/epoch - 2ms/step\n",
            "Epoch 17/30\n",
            "189/189 - 0s - loss: 0.3846 - accuracy: 0.8937 - val_loss: 0.4275 - val_accuracy: 0.8667 - 280ms/epoch - 1ms/step\n",
            "Epoch 18/30\n",
            "189/189 - 0s - loss: 0.3705 - accuracy: 0.9042 - val_loss: 0.4158 - val_accuracy: 0.8667 - 293ms/epoch - 2ms/step\n",
            "Epoch 19/30\n",
            "189/189 - 0s - loss: 0.3578 - accuracy: 0.9026 - val_loss: 0.4053 - val_accuracy: 0.8762 - 326ms/epoch - 2ms/step\n",
            "Epoch 20/30\n",
            "189/189 - 0s - loss: 0.3463 - accuracy: 0.9101 - val_loss: 0.3960 - val_accuracy: 0.8762 - 274ms/epoch - 1ms/step\n",
            "Epoch 21/30\n",
            "189/189 - 0s - loss: 0.3360 - accuracy: 0.9148 - val_loss: 0.3877 - val_accuracy: 0.8905 - 342ms/epoch - 2ms/step\n",
            "Epoch 22/30\n",
            "189/189 - 0s - loss: 0.3268 - accuracy: 0.9153 - val_loss: 0.3802 - val_accuracy: 0.8905 - 284ms/epoch - 2ms/step\n",
            "Epoch 23/30\n",
            "189/189 - 0s - loss: 0.3184 - accuracy: 0.9159 - val_loss: 0.3731 - val_accuracy: 0.9000 - 272ms/epoch - 1ms/step\n",
            "Epoch 24/30\n",
            "189/189 - 0s - loss: 0.3109 - accuracy: 0.9222 - val_loss: 0.3676 - val_accuracy: 0.9000 - 315ms/epoch - 2ms/step\n",
            "Epoch 25/30\n",
            "189/189 - 0s - loss: 0.3042 - accuracy: 0.9212 - val_loss: 0.3619 - val_accuracy: 0.9000 - 314ms/epoch - 2ms/step\n",
            "Epoch 26/30\n",
            "189/189 - 0s - loss: 0.2982 - accuracy: 0.9259 - val_loss: 0.3577 - val_accuracy: 0.9000 - 322ms/epoch - 2ms/step\n",
            "Epoch 27/30\n",
            "189/189 - 0s - loss: 0.2930 - accuracy: 0.9222 - val_loss: 0.3531 - val_accuracy: 0.9143 - 271ms/epoch - 1ms/step\n",
            "Epoch 28/30\n",
            "189/189 - 0s - loss: 0.2881 - accuracy: 0.9307 - val_loss: 0.3497 - val_accuracy: 0.9143 - 294ms/epoch - 2ms/step\n",
            "Epoch 29/30\n",
            "189/189 - 0s - loss: 0.2839 - accuracy: 0.9296 - val_loss: 0.3468 - val_accuracy: 0.9143 - 291ms/epoch - 2ms/step\n",
            "Epoch 30/30\n",
            "189/189 - 0s - loss: 0.2798 - accuracy: 0.9254 - val_loss: 0.3430 - val_accuracy: 0.9143 - 283ms/epoch - 1ms/step\n"
          ]
        },
        {
          "output_type": "execute_result",
          "data": {
            "text/plain": [
              "<keras.callbacks.History at 0x7faf7b750d90>"
            ]
          },
          "metadata": {},
          "execution_count": 219
        }
      ]
    },
    {
      "cell_type": "code",
      "source": [
        "#test dataset\n",
        "test_labels =[]\n",
        "test_samples =[]"
      ],
      "metadata": {
        "id": "tilUfSRLIshb"
      },
      "execution_count": null,
      "outputs": []
    },
    {
      "cell_type": "code",
      "source": [
        "# drug medicine experience\n",
        "\n",
        "for i in range(10):\n",
        "  # the ~5% of younger individuals who did experience side effects\n",
        "  random_younger = randint(13,64)\n",
        "  test_samples.append(random_younger)\n",
        "  test_labels.append(1)\n",
        "\n",
        "  # the ~5% of older individuals who did not experience side effects\n",
        "  random_older = randint(65,100)\n",
        "  test_samples.append(random_older)\n",
        "  test_labels.append(0)\n",
        "\n",
        "\n",
        "for i in range(200):\n",
        "  # the ~95% of younger individuals who did not experience side effects\n",
        "  random_younger = randint(13,64)\n",
        "  test_samples.append(random_younger)\n",
        "  test_labels.append(0)\n",
        "\n",
        "  # the ~5% of older individuals who did experience side effects\n",
        "  random_older = randint(65,100)\n",
        "  test_samples.append(random_older)\n",
        "  test_labels.append(1)\n"
      ],
      "metadata": {
        "cellView": "code",
        "id": "pn0lX2ALI28P"
      },
      "execution_count": null,
      "outputs": []
    },
    {
      "cell_type": "code",
      "source": [
        "## samples and labels to numpy arry test set\n",
        "\n",
        "test_labels = np.array(test_labels)\n",
        "test_samples = np.array(test_samples)\n",
        "\n",
        "test_labels, test_samples = shuffle(test_labels, test_samples)\n",
        "\n",
        "#scaler\n",
        "scaler = MinMaxScaler(feature_range=(0,1))\n",
        "scaled_test_samples = scaler.fit_transform(test_samples.reshape(-1,1))"
      ],
      "metadata": {
        "id": "SGD4FTWnJQxX"
      },
      "execution_count": null,
      "outputs": []
    },
    {
      "cell_type": "code",
      "source": [
        "#Prediction\n",
        "\n",
        "predictions = model.predict(x=scaled_test_samples,batch_size=10,verbose=0)"
      ],
      "metadata": {
        "id": "LKLvu0ffKNpJ"
      },
      "execution_count": null,
      "outputs": []
    },
    {
      "cell_type": "code",
      "source": [
        "# for i in range(len(predictions)):\n",
        "#   print(test_samples[i],predictions[i])"
      ],
      "metadata": {
        "id": "BUTYNP_dKfLK"
      },
      "execution_count": null,
      "outputs": []
    },
    {
      "cell_type": "code",
      "source": [
        "# rounding result prediction\n",
        "\n",
        "rounded_predictions = np.argmax(predictions,axis=-1)"
      ],
      "metadata": {
        "id": "kYuAalWWKno5"
      },
      "execution_count": null,
      "outputs": []
    },
    {
      "cell_type": "code",
      "source": [
        "# for i in range(len(rounded_predictions)):\n",
        "#   print(test_samples[i],rounded_predictions[i])\n"
      ],
      "metadata": {
        "id": "d4_z9JfNK1pN"
      },
      "execution_count": null,
      "outputs": []
    },
    {
      "cell_type": "code",
      "source": [
        "#Confusion metrics\n",
        "\n",
        "# imports\n",
        "\n",
        "%matplotlib inline\n",
        "from sklearn.metrics import confusion_matrix\n",
        "import itertools\n",
        "import matplotlib.pyplot as plt"
      ],
      "metadata": {
        "id": "DNrmDqmyBOm6"
      },
      "execution_count": null,
      "outputs": []
    },
    {
      "cell_type": "code",
      "source": [
        "#building confusion metrcis\n",
        "cm = confusion_matrix(y_true=test_labels,y_pred=rounded_predictions)"
      ],
      "metadata": {
        "id": "bdcKx3HTDkM7"
      },
      "execution_count": null,
      "outputs": []
    },
    {
      "cell_type": "code",
      "source": [
        "def plot_confusion_matrix(cm, classes,\n",
        "                          normalize=False,\n",
        "                          title='Confusion matrix',\n",
        "                          cmap=plt.cm.Blues):\n",
        "    \"\"\"\n",
        "    This function prints and plots the confusion matrix.\n",
        "    Normalization can be applied by setting `normalize=True`.\n",
        "    \"\"\"\n",
        "    plt.imshow(cm, interpolation='nearest', cmap=cmap)\n",
        "    plt.title(title)\n",
        "    plt.colorbar()\n",
        "    tick_marks = np.arange(len(classes))\n",
        "    plt.xticks(tick_marks, classes, rotation=45)\n",
        "    plt.yticks(tick_marks, classes)\n",
        "\n",
        "    if normalize:\n",
        "        cm = cm.astype('float') / cm.sum(axis=1)[:, np.newaxis]\n",
        "        print(\"Normalized confusion matrix\")\n",
        "    else:\n",
        "        print('Confusion matrix, without normalization')\n",
        "\n",
        "    print(cm)\n",
        "\n",
        "    thresh = cm.max() / 2.\n",
        "    for i, j in itertools.product(range(cm.shape[0]), range(cm.shape[1])):\n",
        "        plt.text(j, i, cm[i, j],\n",
        "                 horizontalalignment=\"center\",\n",
        "                 color=\"white\" if cm[i, j] > thresh else \"black\")\n",
        "\n",
        "    plt.tight_layout()\n",
        "    plt.ylabel('True label')\n",
        "    plt.xlabel('Predicted label')"
      ],
      "metadata": {
        "id": "T3IV-JMCD7ys"
      },
      "execution_count": null,
      "outputs": []
    },
    {
      "cell_type": "code",
      "source": [
        "import os.path\n",
        "\n",
        "if os.path.isfile('content/Model/model_medical_trial.h5') is False:\n",
        "    model.save('content/Model/model_medical_trial.h5')"
      ],
      "metadata": {
        "id": "Cp8XhOJxcWiy"
      },
      "execution_count": null,
      "outputs": []
    },
    {
      "cell_type": "code",
      "source": [
        "cm_plot_labels = ['no_side_effects','had_side_effects']\n",
        "plot_confusion_matrix(cm=cm,classes=cm_plot_labels,title='Confusion Matrix')"
      ],
      "metadata": {
        "colab": {
          "base_uri": "https://localhost:8080/",
          "height": 363
        },
        "id": "-qUiPt2UQNI8",
        "outputId": "698c36d0-81d6-498a-d94e-56922b675f69"
      },
      "execution_count": null,
      "outputs": [
        {
          "output_type": "stream",
          "name": "stdout",
          "text": [
            "Confusion matrix, without normalization\n",
            "[[189  21]\n",
            " [ 10 200]]\n"
          ]
        },
        {
          "output_type": "display_data",
          "data": {
            "image/png": "[encoded data removed]",
            "text/plain": [
              "<Figure size 432x288 with 2 Axes>"
            ]
          },
          "metadata": {
            "needs_background": "light"
          }
        }
      ]
    },
    {
      "cell_type": "code",
      "source": [
        "from tensorflow.keras.models import load_model\n",
        "new_model = load_model('Model/model_medical_trial.h5')\n",
        "new_model.summary()\n",
        "new_model.get_weights()\n",
        "new_model.optimizer"
      ],
      "metadata": {
        "id": "WGjlVsTta57G",
        "outputId": "76ef68a1-fb54-484c-d1ee-e1e5da5c2705",
        "colab": {
          "base_uri": "https://localhost:8080/"
        }
      },
      "execution_count": null,
      "outputs": [
        {
          "output_type": "stream",
          "name": "stdout",
          "text": [
            "Model: \"sequential_4\"\n",
            "_________________________________________________________________\n",
            " Layer (type)                Output Shape              Param #   \n",
            "=================================================================\n",
            " dense_12 (Dense)            (None, 16)                32        \n",
            "                                                                 \n",
            " dense_13 (Dense)            (None, 32)                544       \n",
            "                                                                 \n",
            " dense_14 (Dense)            (None, 2)                 66        \n",
            "                                                                 \n",
            "=================================================================\n",
            "Total params: 642\n",
            "Trainable params: 642\n",
            "Non-trainable params: 0\n",
            "_________________________________________________________________\n"
          ]
        },
        {
          "output_type": "execute_result",
          "data": {
            "text/plain": [
              "<keras.optimizer_v2.adam.Adam at 0x7faf7bb483d0>"
            ]
          },
          "metadata": {},
          "execution_count": 399
        }
      ]
    },
    {
      "cell_type": "code",
      "source": [
        "# model to JSON\n",
        "\n",
        "json_string = model.to_json()\n",
        "json_string\n",
        "\n",
        "# JSON to model\n",
        "from tensorflow.keras.models import model_from_json\n",
        "model_arch = model_from_json(json_string)\n",
        "model_arch.summary()"
      ],
      "metadata": {
        "colab": {
          "base_uri": "https://localhost:8080/"
        },
        "id": "jnEpe8Rjk55d",
        "outputId": "ef2919dd-9a62-45f6-ec83-8fb1c8cf11d1"
      },
      "execution_count": null,
      "outputs": [
        {
          "output_type": "stream",
          "name": "stdout",
          "text": [
            "Model: \"sequential_4\"\n",
            "_________________________________________________________________\n",
            " Layer (type)                Output Shape              Param #   \n",
            "=================================================================\n",
            " dense_12 (Dense)            (None, 16)                32        \n",
            "                                                                 \n",
            " dense_13 (Dense)            (None, 32)                544       \n",
            "                                                                 \n",
            " dense_14 (Dense)            (None, 2)                 66        \n",
            "                                                                 \n",
            "=================================================================\n",
            "Total params: 642\n",
            "Trainable params: 642\n",
            "Non-trainable params: 0\n",
            "_________________________________________________________________\n"
          ]
        }
      ]
    },
    {
      "cell_type": "code",
      "source": [
        "# save only the weights\n",
        "\n",
        "import os.path\n",
        "\n",
        "if os.path.isfile('model_weights.h5') is False:\n",
        "  model.save_weights('model_weights.h5')\n",
        "\n",
        "#model.load_weights('path')\n",
        "#model.get_weigths()"
      ],
      "metadata": {
        "colab": {
          "base_uri": "https://localhost:8080/"
        },
        "id": "kIR6g5Y7mPUO",
        "outputId": "77b15c86-aabc-49f4-9d83-fee269644042"
      },
      "execution_count": null,
      "outputs": [
        {
          "output_type": "stream",
          "name": "stdout",
          "text": [
            "model_medical_trial.h5\tmodel_weights.h5\n"
          ]
        }
      ]
    },
    {
      "cell_type": "code",
      "source": [
        "import os\n",
        "os.chdir('/content')\n",
        "!ls"
      ],
      "metadata": {
        "colab": {
          "base_uri": "https://localhost:8080/"
        },
        "id": "zWaocZgun_x9",
        "outputId": "699d7045-810a-44ee-de63-4ff9e4ac727c"
      },
      "execution_count": null,
      "outputs": [
        {
          "output_type": "stream",
          "name": "stdout",
          "text": [
            "Model  sample_data\n"
          ]
        }
      ]
    }
  ]
}