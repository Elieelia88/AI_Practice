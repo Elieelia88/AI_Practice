{
  "nbformat": 4,
  "nbformat_minor": 0,
  "metadata": {
    "colab": {
      "name": "Simple Neural Network",
      "provenance": [],
      "collapsed_sections": [],
      "authorship_tag": "ABX9TyNTtG3PS/uE4oauKVouOm69"
    },
    "kernelspec": {
      "name": "python3",
      "display_name": "Python 3"
    },
    "language_info": {
      "name": "python"
    }
  },
  "cells": [
    {
      "cell_type": "code",
      "execution_count": 8,
      "metadata": {
        "colab": {
          "base_uri": "https://localhost:8080/"
        },
        "id": "Jlna5k34qzyn",
        "outputId": "8e712707-6a40-497a-f1a9-7a67e845063d"
      },
      "outputs": [
        {
          "output_type": "stream",
          "name": "stdout",
          "text": [
            "Output After training:\n",
            " [[0.00352184]\n",
            " [0.00358696]\n",
            " [0.99640236]\n",
            " [0.99646767]]\n"
          ]
        }
      ],
      "source": [
        "import numpy as np\n",
        "\n",
        "#sigmoid function\n",
        "\n",
        "def nonlin(x,deriv=False):\n",
        "  if(deriv == True):\n",
        "    return x*(1-x)\n",
        "  return 1/(1+np.exp(-x))\n",
        "\n",
        "\n",
        "#input dataset\n",
        "X = np.array([\n",
        "              [0,0,1,1],\n",
        "              [0,1,1,1],\n",
        "              [1,0,1,0],\n",
        "              [1,1,1,0]\n",
        "            ])\n",
        "\n",
        "#output dataset\n",
        "Y = np.array([[0,0,1,1]]).T\n",
        "\n",
        "\n",
        "np.random.seed(1)\n",
        "\n",
        "# initialize weights with mean 0\n",
        "syn0 = 2*np.random.random((4,1)) - 1\n",
        "\n",
        "for iter in range(20000):\n",
        "  l0 = X\n",
        "  l1 = nonlin(np.dot(l0,syn0))\n",
        "  l1_error = Y - l1\n",
        "\n",
        "  l1_delta = l1_error * nonlin(l1,True)\n",
        "  syn0 +=  np.dot(l0.T,l1_delta)\n",
        "\n",
        "print(\"Output After training:\\n\",l1)\n",
        "\n"
      ]
    }
  ]
}